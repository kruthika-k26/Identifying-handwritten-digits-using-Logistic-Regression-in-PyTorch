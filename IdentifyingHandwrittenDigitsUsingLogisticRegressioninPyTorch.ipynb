{
  "nbformat": 4,
  "nbformat_minor": 0,
  "metadata": {
    "colab": {
      "provenance": [],
      "authorship_tag": "ABX9TyNc+GpIMFMNp/3Sfan/9Rr6",
      "include_colab_link": true
    },
    "kernelspec": {
      "name": "python3",
      "display_name": "Python 3"
    },
    "language_info": {
      "name": "python"
    }
  },
  "cells": [
    {
      "cell_type": "markdown",
      "metadata": {
        "id": "view-in-github",
        "colab_type": "text"
      },
      "source": [
        "<a href=\"https://colab.research.google.com/github/kruthika-k26/Identifying-handwritten-digits-using-Logistic-Regression-in-PyTorch/blob/main/IdentifyingHandwrittenDigitsUsingLogisticRegressioninPyTorch.ipynb\" target=\"_parent\"><img src=\"https://colab.research.google.com/assets/colab-badge.svg\" alt=\"Open In Colab\"/></a>"
      ]
    },
    {
      "cell_type": "code",
      "execution_count": null,
      "metadata": {
        "id": "QMvcDi1LrQqU"
      },
      "outputs": [],
      "source": []
    },
    {
      "cell_type": "code",
      "source": [
        "import torch\n",
        "import torch.nn as nn\n",
        "import torchvision.datasets as dsets\n",
        "import torchvision.transforms as transforms\n",
        "from torch.autograd import Variable\n"
      ],
      "metadata": {
        "id": "SKSkIrfqrTGZ"
      },
      "execution_count": 1,
      "outputs": []
    },
    {
      "cell_type": "code",
      "source": [
        "# Set the batch size\n",
        "batch_size = 64\n",
        "\n",
        "# MNIST Dataset (Images and Labels)\n",
        "train_dataset = dsets.MNIST(root ='./data',\n",
        "                            train = True,\n",
        "                            transform = transforms.ToTensor(),\n",
        "                            download = True)\n",
        "\n",
        "test_dataset = dsets.MNIST(root ='./data',\n",
        "                           train = False,\n",
        "                           transform = transforms.ToTensor())\n",
        "\n",
        "# Dataset Loader (Input Pipeline)\n",
        "train_loader = torch.utils.data.DataLoader(dataset = train_dataset,\n",
        "                                           batch_size = batch_size,\n",
        "                                           shuffle = True)\n",
        "\n",
        "test_loader = torch.utils.data.DataLoader(dataset = test_dataset,\n",
        "                                          batch_size = batch_size,\n",
        "                                          shuffle = False)\n",
        "\n",
        "# This code is modified by Susobhan Akhuli\n"
      ],
      "metadata": {
        "colab": {
          "base_uri": "https://localhost:8080/"
        },
        "id": "MTr6li45rdrT",
        "outputId": "c3419faf-aa4c-48d0-f4e9-e801da2b1cb4"
      },
      "execution_count": 2,
      "outputs": [
        {
          "output_type": "stream",
          "name": "stdout",
          "text": [
            "Downloading http://yann.lecun.com/exdb/mnist/train-images-idx3-ubyte.gz\n",
            "Failed to download (trying next):\n",
            "HTTP Error 404: Not Found\n",
            "\n",
            "Downloading https://ossci-datasets.s3.amazonaws.com/mnist/train-images-idx3-ubyte.gz\n",
            "Downloading https://ossci-datasets.s3.amazonaws.com/mnist/train-images-idx3-ubyte.gz to ./data/MNIST/raw/train-images-idx3-ubyte.gz\n"
          ]
        },
        {
          "output_type": "stream",
          "name": "stderr",
          "text": [
            "100%|██████████| 9.91M/9.91M [00:00<00:00, 52.5MB/s]\n"
          ]
        },
        {
          "output_type": "stream",
          "name": "stdout",
          "text": [
            "Extracting ./data/MNIST/raw/train-images-idx3-ubyte.gz to ./data/MNIST/raw\n",
            "\n",
            "Downloading http://yann.lecun.com/exdb/mnist/train-labels-idx1-ubyte.gz\n",
            "Failed to download (trying next):\n",
            "HTTP Error 404: Not Found\n",
            "\n",
            "Downloading https://ossci-datasets.s3.amazonaws.com/mnist/train-labels-idx1-ubyte.gz\n",
            "Downloading https://ossci-datasets.s3.amazonaws.com/mnist/train-labels-idx1-ubyte.gz to ./data/MNIST/raw/train-labels-idx1-ubyte.gz\n"
          ]
        },
        {
          "output_type": "stream",
          "name": "stderr",
          "text": [
            "100%|██████████| 28.9k/28.9k [00:00<00:00, 1.79MB/s]\n"
          ]
        },
        {
          "output_type": "stream",
          "name": "stdout",
          "text": [
            "Extracting ./data/MNIST/raw/train-labels-idx1-ubyte.gz to ./data/MNIST/raw\n",
            "\n",
            "Downloading http://yann.lecun.com/exdb/mnist/t10k-images-idx3-ubyte.gz\n",
            "Failed to download (trying next):\n",
            "HTTP Error 404: Not Found\n",
            "\n",
            "Downloading https://ossci-datasets.s3.amazonaws.com/mnist/t10k-images-idx3-ubyte.gz\n",
            "Downloading https://ossci-datasets.s3.amazonaws.com/mnist/t10k-images-idx3-ubyte.gz to ./data/MNIST/raw/t10k-images-idx3-ubyte.gz\n"
          ]
        },
        {
          "output_type": "stream",
          "name": "stderr",
          "text": [
            "100%|██████████| 1.65M/1.65M [00:00<00:00, 16.0MB/s]\n"
          ]
        },
        {
          "output_type": "stream",
          "name": "stdout",
          "text": [
            "Extracting ./data/MNIST/raw/t10k-images-idx3-ubyte.gz to ./data/MNIST/raw\n",
            "\n",
            "Downloading http://yann.lecun.com/exdb/mnist/t10k-labels-idx1-ubyte.gz\n",
            "Failed to download (trying next):\n",
            "HTTP Error 404: Not Found\n",
            "\n",
            "Downloading https://ossci-datasets.s3.amazonaws.com/mnist/t10k-labels-idx1-ubyte.gz\n",
            "Downloading https://ossci-datasets.s3.amazonaws.com/mnist/t10k-labels-idx1-ubyte.gz to ./data/MNIST/raw/t10k-labels-idx1-ubyte.gz\n"
          ]
        },
        {
          "output_type": "stream",
          "name": "stderr",
          "text": [
            "100%|██████████| 4.54k/4.54k [00:00<00:00, 7.85MB/s]"
          ]
        },
        {
          "output_type": "stream",
          "name": "stdout",
          "text": [
            "Extracting ./data/MNIST/raw/t10k-labels-idx1-ubyte.gz to ./data/MNIST/raw\n",
            "\n"
          ]
        },
        {
          "output_type": "stream",
          "name": "stderr",
          "text": [
            "\n"
          ]
        }
      ]
    },
    {
      "cell_type": "code",
      "source": [
        "\n",
        "input_size = 784\n",
        "num_classes = 10\n",
        "num_epochs = 5\n",
        "batch_size = 100\n",
        "learning_rate = 0.001\n"
      ],
      "metadata": {
        "id": "xsYOxaBVrjO9"
      },
      "execution_count": 3,
      "outputs": []
    },
    {
      "cell_type": "code",
      "source": [
        "class LogisticRegression(nn.Module):\n",
        "    def __init__(self, input_size, num_classes):\n",
        "        super(LogisticRegression, self).__init__()\n",
        "        self.linear = nn.Linear(input_size, num_classes)\n",
        "\n",
        "    def forward(self, x):\n",
        "        out = self.linear(x)\n",
        "        return out\n"
      ],
      "metadata": {
        "id": "7tlrlbB3roXh"
      },
      "execution_count": 4,
      "outputs": []
    },
    {
      "cell_type": "code",
      "source": [
        "model = LogisticRegression(input_size, num_classes)\n"
      ],
      "metadata": {
        "id": "w4D8YROsrrZJ"
      },
      "execution_count": 5,
      "outputs": []
    },
    {
      "cell_type": "code",
      "source": [
        "criterion = nn.CrossEntropyLoss()\n",
        "optimizer = torch.optim.SGD(model.parameters(), lr = learning_rate)\n"
      ],
      "metadata": {
        "id": "J8OriPH8rvSY"
      },
      "execution_count": 6,
      "outputs": []
    },
    {
      "cell_type": "code",
      "source": [
        "\n",
        "for epoch in range(num_epochs):\n",
        "    for i, (images, labels) in enumerate(train_loader):\n",
        "        images = Variable(images.view(-1, 28 * 28))\n",
        "        labels = Variable(labels)\n",
        "\n",
        "        # Forward + Backward + Optimize\n",
        "        optimizer.zero_grad()\n",
        "        outputs = model(images)\n",
        "        loss = criterion(outputs, labels)\n",
        "        loss.backward()\n",
        "        optimizer.step()\n",
        "\n",
        "        if (i + 1) % 100 == 0:\n",
        "            print('Epoch: [% d/% d], Step: [% d/% d], Loss: %.4f'\n",
        "                % (epoch + 1, num_epochs, i + 1,\n",
        "                    len(train_dataset) // batch_size, loss.item())) # Use loss.item() to get the scalar value\n",
        "\n",
        "# This code is modified by Kruthika Kemmasaram\n"
      ],
      "metadata": {
        "colab": {
          "base_uri": "https://localhost:8080/"
        },
        "id": "4PkQ9BnCrywd",
        "outputId": "1baeae1e-9e81-4305-c0ce-5eb2ab9801ea"
      },
      "execution_count": 7,
      "outputs": [
        {
          "output_type": "stream",
          "name": "stdout",
          "text": [
            "Epoch: [ 1/ 5], Step: [ 100/ 600], Loss: 2.1756\n",
            "Epoch: [ 1/ 5], Step: [ 200/ 600], Loss: 2.0906\n",
            "Epoch: [ 1/ 5], Step: [ 300/ 600], Loss: 2.0584\n",
            "Epoch: [ 1/ 5], Step: [ 400/ 600], Loss: 1.9332\n",
            "Epoch: [ 1/ 5], Step: [ 500/ 600], Loss: 1.8285\n",
            "Epoch: [ 1/ 5], Step: [ 600/ 600], Loss: 1.8076\n",
            "Epoch: [ 1/ 5], Step: [ 700/ 600], Loss: 1.7314\n",
            "Epoch: [ 1/ 5], Step: [ 800/ 600], Loss: 1.6899\n",
            "Epoch: [ 1/ 5], Step: [ 900/ 600], Loss: 1.5911\n",
            "Epoch: [ 2/ 5], Step: [ 100/ 600], Loss: 1.4630\n",
            "Epoch: [ 2/ 5], Step: [ 200/ 600], Loss: 1.5260\n",
            "Epoch: [ 2/ 5], Step: [ 300/ 600], Loss: 1.4660\n",
            "Epoch: [ 2/ 5], Step: [ 400/ 600], Loss: 1.4264\n",
            "Epoch: [ 2/ 5], Step: [ 500/ 600], Loss: 1.4773\n",
            "Epoch: [ 2/ 5], Step: [ 600/ 600], Loss: 1.3754\n",
            "Epoch: [ 2/ 5], Step: [ 700/ 600], Loss: 1.2564\n",
            "Epoch: [ 2/ 5], Step: [ 800/ 600], Loss: 1.3683\n",
            "Epoch: [ 2/ 5], Step: [ 900/ 600], Loss: 1.2663\n",
            "Epoch: [ 3/ 5], Step: [ 100/ 600], Loss: 1.2291\n",
            "Epoch: [ 3/ 5], Step: [ 200/ 600], Loss: 1.1124\n",
            "Epoch: [ 3/ 5], Step: [ 300/ 600], Loss: 1.0803\n",
            "Epoch: [ 3/ 5], Step: [ 400/ 600], Loss: 1.1105\n",
            "Epoch: [ 3/ 5], Step: [ 500/ 600], Loss: 1.1728\n",
            "Epoch: [ 3/ 5], Step: [ 600/ 600], Loss: 1.0416\n",
            "Epoch: [ 3/ 5], Step: [ 700/ 600], Loss: 1.0327\n",
            "Epoch: [ 3/ 5], Step: [ 800/ 600], Loss: 0.9398\n",
            "Epoch: [ 3/ 5], Step: [ 900/ 600], Loss: 1.0784\n",
            "Epoch: [ 4/ 5], Step: [ 100/ 600], Loss: 0.9396\n",
            "Epoch: [ 4/ 5], Step: [ 200/ 600], Loss: 1.1107\n",
            "Epoch: [ 4/ 5], Step: [ 300/ 600], Loss: 0.9962\n",
            "Epoch: [ 4/ 5], Step: [ 400/ 600], Loss: 0.8265\n",
            "Epoch: [ 4/ 5], Step: [ 500/ 600], Loss: 0.9602\n",
            "Epoch: [ 4/ 5], Step: [ 600/ 600], Loss: 1.0184\n",
            "Epoch: [ 4/ 5], Step: [ 700/ 600], Loss: 0.8893\n",
            "Epoch: [ 4/ 5], Step: [ 800/ 600], Loss: 0.9261\n",
            "Epoch: [ 4/ 5], Step: [ 900/ 600], Loss: 0.9044\n",
            "Epoch: [ 5/ 5], Step: [ 100/ 600], Loss: 0.9729\n",
            "Epoch: [ 5/ 5], Step: [ 200/ 600], Loss: 0.9392\n",
            "Epoch: [ 5/ 5], Step: [ 300/ 600], Loss: 0.8881\n",
            "Epoch: [ 5/ 5], Step: [ 400/ 600], Loss: 0.9599\n",
            "Epoch: [ 5/ 5], Step: [ 500/ 600], Loss: 0.8433\n",
            "Epoch: [ 5/ 5], Step: [ 600/ 600], Loss: 1.0066\n",
            "Epoch: [ 5/ 5], Step: [ 700/ 600], Loss: 0.7781\n",
            "Epoch: [ 5/ 5], Step: [ 800/ 600], Loss: 0.7526\n",
            "Epoch: [ 5/ 5], Step: [ 900/ 600], Loss: 0.7676\n"
          ]
        }
      ]
    },
    {
      "cell_type": "code",
      "source": [
        "# Test the Model\n",
        "correct = 0\n",
        "total = 0\n",
        "for images, labels in test_loader:\n",
        "    images = Variable(images.view(-1, 28 * 28))\n",
        "    outputs = model(images)\n",
        "    _, predicted = torch.max(outputs.data, 1)\n",
        "    total += labels.size(0)\n",
        "    correct += (predicted == labels).sum()\n",
        "\n",
        "print('Accuracy of the model on the 10000 test images: % d %%' % (\n",
        "            100 * correct / total))\n"
      ],
      "metadata": {
        "colab": {
          "base_uri": "https://localhost:8080/"
        },
        "id": "zJ3mkjKpsFpj",
        "outputId": "c5044db7-cab8-4dc8-e0ac-b657ba915743"
      },
      "execution_count": 8,
      "outputs": [
        {
          "output_type": "stream",
          "name": "stdout",
          "text": [
            "Accuracy of the model on the 10000 test images:  84 %\n"
          ]
        }
      ]
    },
    {
      "cell_type": "code",
      "source": [
        "import torch\n",
        "import torch.nn as nn\n",
        "import torchvision.datasets as dsets\n",
        "import torchvision.transforms as transforms\n",
        "from torch.autograd import Variable\n",
        "\n",
        "\n",
        "# MNIST Dataset (Images and Labels)\n",
        "train_dataset = dsets.MNIST(root ='./data',\n",
        "                            train = True,\n",
        "                            transform = transforms.ToTensor(),\n",
        "                            download = True)\n",
        "\n",
        "test_dataset = dsets.MNIST(root ='./data',\n",
        "                        train = False,\n",
        "                        transform = transforms.ToTensor())\n",
        "\n",
        "# Dataset Loader (Input Pipeline)\n",
        "train_loader = torch.utils.data.DataLoader(dataset = train_dataset,\n",
        "                                        batch_size = batch_size,\n",
        "                                        shuffle = True)\n",
        "\n",
        "test_loader = torch.utils.data.DataLoader(dataset = test_dataset,\n",
        "                                        batch_size = batch_size,\n",
        "                                        shuffle = False)\n",
        "\n",
        "# Hyper Parameters\n",
        "input_size = 784\n",
        "num_classes = 10\n",
        "num_epochs = 5\n",
        "batch_size = 100\n",
        "learning_rate = 0.001\n",
        "\n",
        "# Model\n",
        "class LogisticRegression(nn.Module):\n",
        "    def __init__(self, input_size, num_classes):\n",
        "        super(LogisticRegression, self).__init__()\n",
        "        self.linear = nn.Linear(input_size, num_classes)\n",
        "\n",
        "    def forward(self, x):\n",
        "        out = self.linear(x)\n",
        "        return out\n",
        "\n",
        "\n",
        "model = LogisticRegression(input_size, num_classes)\n",
        "\n",
        "\n",
        "criterion = nn.CrossEntropyLoss()\n",
        "optimizer = torch.optim.SGD(model.parameters(), lr = learning_rate)\n",
        "\n",
        "# Training the Model\n",
        "for epoch in range(num_epochs):\n",
        "    for i, (images, labels) in enumerate(train_loader):\n",
        "        images = Variable(images.view(-1, 28 * 28))\n",
        "        labels = Variable(labels)\n",
        "\n",
        "        # Forward + Backward + Optimize\n",
        "        optimizer.zero_grad()\n",
        "        outputs = model(images)\n",
        "        loss = criterion(outputs, labels)\n",
        "        loss.backward()\n",
        "        optimizer.step()\n",
        "\n",
        "        if (i + 1) % 100 == 0:\n",
        "            print('Epoch: [% d/% d], Step: [% d/% d], Loss: %.4f'\n",
        "                % (epoch + 1, num_epochs, i + 1,\n",
        "                    len(train_dataset) // batch_size, loss.item()))\n",
        "\n",
        "# Test the Model\n",
        "correct = 0\n",
        "total = 0\n",
        "for images, labels in test_loader:\n",
        "    images = Variable(images.view(-1, 28 * 28))\n",
        "    outputs = model(images)\n",
        "    _, predicted = torch.max(outputs.data, 1)\n",
        "    total += labels.size(0)\n",
        "    correct += (predicted == labels).sum()\n",
        "\n",
        "print('Accuracy of the model on the 10000 test images: % d %%' % (\n",
        "            100 * correct / total))\n",
        "\n",
        "# This code is modified by Kruthika Kemmasaram\n"
      ],
      "metadata": {
        "colab": {
          "base_uri": "https://localhost:8080/"
        },
        "id": "8rmSLEBvsK8y",
        "outputId": "366f8afd-80fa-44d7-cc89-d2746adbb5c6"
      },
      "execution_count": 9,
      "outputs": [
        {
          "output_type": "stream",
          "name": "stdout",
          "text": [
            "Epoch: [ 1/ 5], Step: [ 100/ 600], Loss: 2.1873\n",
            "Epoch: [ 1/ 5], Step: [ 200/ 600], Loss: 2.1160\n",
            "Epoch: [ 1/ 5], Step: [ 300/ 600], Loss: 1.9968\n",
            "Epoch: [ 1/ 5], Step: [ 400/ 600], Loss: 1.9343\n",
            "Epoch: [ 1/ 5], Step: [ 500/ 600], Loss: 1.8753\n",
            "Epoch: [ 1/ 5], Step: [ 600/ 600], Loss: 1.8061\n",
            "Epoch: [ 2/ 5], Step: [ 100/ 600], Loss: 1.7334\n",
            "Epoch: [ 2/ 5], Step: [ 200/ 600], Loss: 1.6723\n",
            "Epoch: [ 2/ 5], Step: [ 300/ 600], Loss: 1.5490\n",
            "Epoch: [ 2/ 5], Step: [ 400/ 600], Loss: 1.5816\n",
            "Epoch: [ 2/ 5], Step: [ 500/ 600], Loss: 1.4976\n",
            "Epoch: [ 2/ 5], Step: [ 600/ 600], Loss: 1.4421\n",
            "Epoch: [ 3/ 5], Step: [ 100/ 600], Loss: 1.4108\n",
            "Epoch: [ 3/ 5], Step: [ 200/ 600], Loss: 1.3110\n",
            "Epoch: [ 3/ 5], Step: [ 300/ 600], Loss: 1.3961\n",
            "Epoch: [ 3/ 5], Step: [ 400/ 600], Loss: 1.3753\n",
            "Epoch: [ 3/ 5], Step: [ 500/ 600], Loss: 1.2385\n",
            "Epoch: [ 3/ 5], Step: [ 600/ 600], Loss: 1.2398\n",
            "Epoch: [ 4/ 5], Step: [ 100/ 600], Loss: 1.1913\n",
            "Epoch: [ 4/ 5], Step: [ 200/ 600], Loss: 1.2497\n",
            "Epoch: [ 4/ 5], Step: [ 300/ 600], Loss: 1.1858\n",
            "Epoch: [ 4/ 5], Step: [ 400/ 600], Loss: 1.0485\n",
            "Epoch: [ 4/ 5], Step: [ 500/ 600], Loss: 1.0516\n",
            "Epoch: [ 4/ 5], Step: [ 600/ 600], Loss: 1.0763\n",
            "Epoch: [ 5/ 5], Step: [ 100/ 600], Loss: 1.0398\n",
            "Epoch: [ 5/ 5], Step: [ 200/ 600], Loss: 1.1039\n",
            "Epoch: [ 5/ 5], Step: [ 300/ 600], Loss: 1.0126\n",
            "Epoch: [ 5/ 5], Step: [ 400/ 600], Loss: 1.0925\n",
            "Epoch: [ 5/ 5], Step: [ 500/ 600], Loss: 0.9377\n",
            "Epoch: [ 5/ 5], Step: [ 600/ 600], Loss: 0.9617\n",
            "Accuracy of the model on the 10000 test images:  82 %\n"
          ]
        }
      ]
    }
  ]
}